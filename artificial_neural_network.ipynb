{
 "cells": [
  {
   "cell_type": "code",
   "execution_count": 71,
   "id": "c89b9c36",
   "metadata": {},
   "outputs": [],
   "source": [
    "import pandas as pd\n",
    "from sklearn.model_selection import train_test_split, StratifiedKFold\n",
    "from tensorflow.keras.models import Sequential\n",
    "from tensorflow.keras.layers import Dense\n",
    "from tensorflow.keras.callbacks import EarlyStopping\n",
    "from statistics import mean\n",
    "from sklearn.metrics import confusion_matrix, accuracy_score, classification_report\n",
    "import numpy as np"
   ]
  },
  {
   "cell_type": "code",
   "execution_count": 107,
   "id": "e842ae61",
   "metadata": {},
   "outputs": [],
   "source": [
    "def get_model():\n",
    "    model = Sequential()\n",
    "    model.add(Dense(64, input_dim=8, activation='relu'))\n",
    "    model.add(Dense(64, activation='relu'))\n",
    "    model.add(Dense(1, activation='sigmoid'))\n",
    "    return model"
   ]
  },
  {
   "cell_type": "code",
   "execution_count": 73,
   "id": "2fa06bfe",
   "metadata": {},
   "outputs": [],
   "source": [
    "dataset_path = 'dataset.csv'\n",
    "dataset = pd.read_csv(dataset_path)"
   ]
  },
  {
   "cell_type": "code",
   "execution_count": 74,
   "id": "26e1eb08",
   "metadata": {},
   "outputs": [
    {
     "data": {
      "text/html": [
       "<div>\n",
       "<style scoped>\n",
       "    .dataframe tbody tr th:only-of-type {\n",
       "        vertical-align: middle;\n",
       "    }\n",
       "\n",
       "    .dataframe tbody tr th {\n",
       "        vertical-align: top;\n",
       "    }\n",
       "\n",
       "    .dataframe thead th {\n",
       "        text-align: right;\n",
       "    }\n",
       "</style>\n",
       "<table border=\"1\" class=\"dataframe\">\n",
       "  <thead>\n",
       "    <tr style=\"text-align: right;\">\n",
       "      <th></th>\n",
       "      <th>Cografya</th>\n",
       "      <th>Yerlesim</th>\n",
       "      <th>AracYogunlugu</th>\n",
       "      <th>YayaYogunlugu</th>\n",
       "      <th>VeriHizi</th>\n",
       "      <th>Guvenilirlik</th>\n",
       "      <th>Gecikme</th>\n",
       "      <th>Kapsama</th>\n",
       "      <th>Standart</th>\n",
       "    </tr>\n",
       "  </thead>\n",
       "  <tbody>\n",
       "    <tr>\n",
       "      <th>0</th>\n",
       "      <td>5</td>\n",
       "      <td>6</td>\n",
       "      <td>6</td>\n",
       "      <td>7</td>\n",
       "      <td>9</td>\n",
       "      <td>6</td>\n",
       "      <td>4</td>\n",
       "      <td>6</td>\n",
       "      <td>1</td>\n",
       "    </tr>\n",
       "    <tr>\n",
       "      <th>1</th>\n",
       "      <td>6</td>\n",
       "      <td>2</td>\n",
       "      <td>6</td>\n",
       "      <td>1</td>\n",
       "      <td>3</td>\n",
       "      <td>2</td>\n",
       "      <td>6</td>\n",
       "      <td>7</td>\n",
       "      <td>0</td>\n",
       "    </tr>\n",
       "    <tr>\n",
       "      <th>2</th>\n",
       "      <td>5</td>\n",
       "      <td>1</td>\n",
       "      <td>6</td>\n",
       "      <td>9</td>\n",
       "      <td>3</td>\n",
       "      <td>6</td>\n",
       "      <td>6</td>\n",
       "      <td>5</td>\n",
       "      <td>1</td>\n",
       "    </tr>\n",
       "    <tr>\n",
       "      <th>3</th>\n",
       "      <td>8</td>\n",
       "      <td>2</td>\n",
       "      <td>3</td>\n",
       "      <td>5</td>\n",
       "      <td>7</td>\n",
       "      <td>5</td>\n",
       "      <td>7</td>\n",
       "      <td>9</td>\n",
       "      <td>0</td>\n",
       "    </tr>\n",
       "    <tr>\n",
       "      <th>4</th>\n",
       "      <td>5</td>\n",
       "      <td>7</td>\n",
       "      <td>4</td>\n",
       "      <td>8</td>\n",
       "      <td>5</td>\n",
       "      <td>9</td>\n",
       "      <td>5</td>\n",
       "      <td>6</td>\n",
       "      <td>1</td>\n",
       "    </tr>\n",
       "    <tr>\n",
       "      <th>...</th>\n",
       "      <td>...</td>\n",
       "      <td>...</td>\n",
       "      <td>...</td>\n",
       "      <td>...</td>\n",
       "      <td>...</td>\n",
       "      <td>...</td>\n",
       "      <td>...</td>\n",
       "      <td>...</td>\n",
       "      <td>...</td>\n",
       "    </tr>\n",
       "    <tr>\n",
       "      <th>9995</th>\n",
       "      <td>4</td>\n",
       "      <td>6</td>\n",
       "      <td>4</td>\n",
       "      <td>4</td>\n",
       "      <td>1</td>\n",
       "      <td>9</td>\n",
       "      <td>9</td>\n",
       "      <td>9</td>\n",
       "      <td>0</td>\n",
       "    </tr>\n",
       "    <tr>\n",
       "      <th>9996</th>\n",
       "      <td>1</td>\n",
       "      <td>10</td>\n",
       "      <td>6</td>\n",
       "      <td>10</td>\n",
       "      <td>6</td>\n",
       "      <td>4</td>\n",
       "      <td>8</td>\n",
       "      <td>5</td>\n",
       "      <td>0</td>\n",
       "    </tr>\n",
       "    <tr>\n",
       "      <th>9997</th>\n",
       "      <td>4</td>\n",
       "      <td>4</td>\n",
       "      <td>2</td>\n",
       "      <td>6</td>\n",
       "      <td>4</td>\n",
       "      <td>4</td>\n",
       "      <td>9</td>\n",
       "      <td>5</td>\n",
       "      <td>0</td>\n",
       "    </tr>\n",
       "    <tr>\n",
       "      <th>9998</th>\n",
       "      <td>4</td>\n",
       "      <td>9</td>\n",
       "      <td>7</td>\n",
       "      <td>2</td>\n",
       "      <td>5</td>\n",
       "      <td>4</td>\n",
       "      <td>2</td>\n",
       "      <td>7</td>\n",
       "      <td>0</td>\n",
       "    </tr>\n",
       "    <tr>\n",
       "      <th>9999</th>\n",
       "      <td>3</td>\n",
       "      <td>7</td>\n",
       "      <td>6</td>\n",
       "      <td>5</td>\n",
       "      <td>5</td>\n",
       "      <td>5</td>\n",
       "      <td>7</td>\n",
       "      <td>2</td>\n",
       "      <td>0</td>\n",
       "    </tr>\n",
       "  </tbody>\n",
       "</table>\n",
       "<p>10000 rows × 9 columns</p>\n",
       "</div>"
      ],
      "text/plain": [
       "      Cografya  Yerlesim  AracYogunlugu  YayaYogunlugu  VeriHizi  \\\n",
       "0            5         6              6              7         9   \n",
       "1            6         2              6              1         3   \n",
       "2            5         1              6              9         3   \n",
       "3            8         2              3              5         7   \n",
       "4            5         7              4              8         5   \n",
       "...        ...       ...            ...            ...       ...   \n",
       "9995         4         6              4              4         1   \n",
       "9996         1        10              6             10         6   \n",
       "9997         4         4              2              6         4   \n",
       "9998         4         9              7              2         5   \n",
       "9999         3         7              6              5         5   \n",
       "\n",
       "      Guvenilirlik  Gecikme  Kapsama  Standart  \n",
       "0                6        4        6         1  \n",
       "1                2        6        7         0  \n",
       "2                6        6        5         1  \n",
       "3                5        7        9         0  \n",
       "4                9        5        6         1  \n",
       "...            ...      ...      ...       ...  \n",
       "9995             9        9        9         0  \n",
       "9996             4        8        5         0  \n",
       "9997             4        9        5         0  \n",
       "9998             4        2        7         0  \n",
       "9999             5        7        2         0  \n",
       "\n",
       "[10000 rows x 9 columns]"
      ]
     },
     "execution_count": 74,
     "metadata": {},
     "output_type": "execute_result"
    }
   ],
   "source": [
    "dataset"
   ]
  },
  {
   "cell_type": "code",
   "execution_count": 75,
   "id": "3b2757b7",
   "metadata": {},
   "outputs": [],
   "source": [
    "x = dataset.iloc[:, :-1]\n",
    "y = dataset.iloc[:, -1:]\n",
    "\n",
    "x_train, x_test, y_train, y_test = train_test_split(x, y, test_size=0.2, random_state=42, shuffle=True, stratify=y)"
   ]
  },
  {
   "cell_type": "code",
   "execution_count": 108,
   "id": "cc80aeda",
   "metadata": {},
   "outputs": [
    {
     "name": "stdout",
     "output_type": "stream",
     "text": [
      "Validation accuracy for batch size =\t 128 \t: 0.8177500009536743\n",
      "Validation accuracy for batch size =\t 256 \t: 0.8142499923706055\n",
      "Validation accuracy for batch size =\t 512 \t: 0.8091249942779541\n",
      "Validation accuracy for batch size =\t 1024 \t: 0.8024999856948852\n",
      "**************************************************\n",
      "The best validation accuracy was obtained with batch size = 128 as 0.8177500009536743\n"
     ]
    }
   ],
   "source": [
    "num_folds = 5\n",
    "skf = StratifiedKFold(n_splits=num_folds, random_state=42, shuffle=True)\n",
    "batch_sizes = [2**i for i in range(7,11)]\n",
    "results = []\n",
    "\n",
    "for batch_size in batch_sizes:\n",
    "    accuracy_list = []\n",
    "    for train_cv_idx, val_idx in skf.split(x_train, y_train):\n",
    "        x_train_cv, x_val = x_train.iloc[train_cv_idx], x_train.iloc[val_idx]\n",
    "        y_train_cv, y_val = y_train.iloc[train_cv_idx].values.ravel(), y_train.iloc[val_idx].values.ravel()\n",
    "        model = get_model()\n",
    "        model.compile(loss='binary_crossentropy', optimizer='adam', metrics=['accuracy'])\n",
    "        model.fit(x_train_cv, y_train_cv, validation_data=(x_val, y_val),\n",
    "                  epochs=100, batch_size=batch_size, verbose=0, \n",
    "                  callbacks=[EarlyStopping(monitor='val_accuracy', patience=15, mode='max', \n",
    "                                           verbose=0, restore_best_weights=True)])\n",
    "        loss, accuracy = model.evaluate(x_val, y_val, verbose=0)\n",
    "        accuracy_list.append(accuracy)\n",
    "    print('Validation accuracy for batch size =\\t', batch_size, '\\t:', mean(accuracy_list))\n",
    "    results.append(mean(accuracy_list))\n",
    "    \n",
    "max_val = max(results)\n",
    "max_idx = results.index(max_val)\n",
    "\n",
    "print('*' * 50)\n",
    "print('The best validation accuracy was obtained with batch size =', batch_sizes[max_idx], 'as', max_val)"
   ]
  },
  {
   "cell_type": "code",
   "execution_count": 109,
   "id": "41943bf4",
   "metadata": {},
   "outputs": [
    {
     "name": "stdout",
     "output_type": "stream",
     "text": [
      "[[1050  141]\n",
      " [ 221  588]]\n"
     ]
    }
   ],
   "source": [
    "model = get_model()\n",
    "model.compile(loss='binary_crossentropy', optimizer='adam', metrics=['accuracy'])\n",
    "model.fit(x_train, y_train.values.ravel(), epochs=100,\n",
    "          batch_size=batch_sizes[max_idx], verbose=0, \n",
    "          callbacks=[EarlyStopping(monitor='accuracy', patience=15, mode='max', \n",
    "                                   verbose=0, restore_best_weights=True)])\n",
    "pred = model.predict(x_test)\n",
    "pred = np.where(pred > 0.5, 1, 0)\n",
    "\n",
    "cm = confusion_matrix(y_test, pred)\n",
    "print(cm)"
   ]
  },
  {
   "cell_type": "code",
   "execution_count": 110,
   "id": "3328fa54",
   "metadata": {},
   "outputs": [
    {
     "name": "stdout",
     "output_type": "stream",
     "text": [
      "Test accuracy: 0.819\n"
     ]
    }
   ],
   "source": [
    "print('Test accuracy:', accuracy_score(y_test, pred))"
   ]
  },
  {
   "cell_type": "code",
   "execution_count": 111,
   "id": "500dbd26",
   "metadata": {},
   "outputs": [
    {
     "name": "stdout",
     "output_type": "stream",
     "text": [
      "              precision    recall  f1-score   support\n",
      "\n",
      "        3GPP       0.83      0.88      0.85      1191\n",
      "        IEEE       0.81      0.73      0.76       809\n",
      "\n",
      "    accuracy                           0.82      2000\n",
      "   macro avg       0.82      0.80      0.81      2000\n",
      "weighted avg       0.82      0.82      0.82      2000\n",
      "\n"
     ]
    }
   ],
   "source": [
    "label_names = ['3GPP', 'IEEE']\n",
    "report = classification_report(y_test, pred, target_names=label_names)\n",
    "print(report)"
   ]
  },
  {
   "cell_type": "code",
   "execution_count": 112,
   "id": "7b4715fa",
   "metadata": {},
   "outputs": [],
   "source": [
    "model.save('ann.h5')"
   ]
  },
  {
   "cell_type": "code",
   "execution_count": null,
   "id": "9c2f25d1",
   "metadata": {},
   "outputs": [],
   "source": []
  }
 ],
 "metadata": {
  "kernelspec": {
   "display_name": "Python 3",
   "language": "python",
   "name": "python3"
  },
  "language_info": {
   "codemirror_mode": {
    "name": "ipython",
    "version": 3
   },
   "file_extension": ".py",
   "mimetype": "text/x-python",
   "name": "python",
   "nbconvert_exporter": "python",
   "pygments_lexer": "ipython3",
   "version": "3.6.13"
  }
 },
 "nbformat": 4,
 "nbformat_minor": 5
}
